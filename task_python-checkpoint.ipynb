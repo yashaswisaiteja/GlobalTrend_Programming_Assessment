{
 "cells": [
  {
   "cell_type": "code",
   "execution_count": 21,
   "id": "cc144744-04a7-43d6-b092-3a9b4d0c0b5e",
   "metadata": {},
   "outputs": [
    {
     "name": "stdout",
     "output_type": "stream",
     "text": [
      "20\n",
      "20\n",
      "10\n"
     ]
    }
   ],
   "source": [
    "class MaxHeap:\n",
    "    def __init__(self):\n",
    "        self.heap = []\n",
    "\n",
    "    def insert(self, element):\n",
    "        self.heap.append(element)\n",
    "        self._heapify_up(len(self.heap) - 1)\n",
    "\n",
    "    def delete(self):\n",
    "        if len(self.heap) > 1:\n",
    "            self._swap(0, len(self.heap) - 1)\n",
    "            max_value = self.heap.pop()\n",
    "            self._heapify_down(0)\n",
    "        elif self.heap:\n",
    "            max_value = self.heap.pop()\n",
    "        else:\n",
    "            max_value = None\n",
    "        return max_value\n",
    "\n",
    "    def get_max(self):\n",
    "        if self.heap:\n",
    "            return self.heap[0]\n",
    "        return None\n",
    "\n",
    "    def _heapify_up(self, index):\n",
    "        parent_index = (index - 1) // 2\n",
    "        if index > 0 and self.heap[index] > self.heap[parent_index]:\n",
    "            self._swap(index, parent_index)\n",
    "            self._heapify_up(parent_index)\n",
    "\n",
    "    def _heapify_down(self, index):\n",
    "        largest = index\n",
    "        left_child_index = 2 * index + 1\n",
    "        right_child_index = 2 * index + 2\n",
    "\n",
    "        if left_child_index < len(self.heap) and self.heap[left_child_index] > self.heap[largest]:\n",
    "            largest = left_child_index\n",
    "\n",
    "        if right_child_index < len(self.heap) and self.heap[right_child_index] > self.heap[largest]:\n",
    "            largest = right_child_index\n",
    "\n",
    "        if largest != index:\n",
    "            self._swap(index, largest)\n",
    "            self._heapify_down(largest)\n",
    "\n",
    "    def _swap(self, i, j):\n",
    "        self.heap[i], self.heap[j] = self.heap[j], self.heap[i]\n",
    "max_heap = MaxHeap()\n",
    "max_heap.insert(10)\n",
    "max_heap.insert(20)\n",
    "max_heap.insert(5)\n",
    "print(max_heap.get_max())  # Output: 20\n",
    "print(max_heap.delete())   # Output: 20\n",
    "print(max_heap.get_max())  # Output: 10\n"
   ]
  },
  {
   "cell_type": "code",
   "execution_count": 2,
   "id": "41fda08a-1c0c-4770-9ac8-71cd18c4cd46",
   "metadata": {},
   "outputs": [
    {
     "name": "stdout",
     "output_type": "stream",
     "text": [
      "HTTP error occurred: 500 Server Error: Internal Server Error for url: https://example.com/file1\n",
      "Retrying... (1/3)\n",
      "HTTP error occurred: 500 Server Error: Internal Server Error for url: https://example.com/file1\n",
      "Retrying... (2/3)\n",
      "HTTP error occurred: 500 Server Error: Internal Server Error for url: https://example.com/file1\n",
      "Retrying... (3/3)\n",
      "Failed to download content from https://example.com/file1 after 3 attempts\n",
      "HTTP error occurred: 404 Client Error: Not Found for url: https://example.com/file2\n",
      "Retrying... (1/3)\n",
      "HTTP error occurred: 404 Client Error: Not Found for url: https://example.com/file2\n",
      "Retrying... (2/3)\n",
      "HTTP error occurred: 404 Client Error: Not Found for url: https://example.com/file2\n",
      "Retrying... (3/3)\n",
      "Failed to download content from https://example.com/file2 after 3 attempts\n",
      "HTTP error occurred: 404 Client Error: Not Found for url: https://example.com/file3\n",
      "Retrying... (1/3)\n",
      "HTTP error occurred: 404 Client Error: Not Found for url: https://example.com/file3\n",
      "Retrying... (2/3)\n",
      "HTTP error occurred: 404 Client Error: Not Found for url: https://example.com/file3\n",
      "Retrying... (3/3)\n",
      "Failed to download content from https://example.com/file3 after 3 attempts\n"
     ]
    }
   ],
   "source": [
    "import requests\n",
    "from requests.exceptions import HTTPError, Timeout, RequestException\n",
    "\n",
    "def download_urls(urls):\n",
    "    for url in urls:\n",
    "        retries = 3\n",
    "        while retries > 0:\n",
    "            try:\n",
    "                response = requests.get(url, timeout=10)\n",
    "                response.raise_for_status()  # Raise HTTPError for bad responses\n",
    "                print(f\"Downloaded content from {url}\")\n",
    "                break  # Exit the loop if download is successful\n",
    "            except HTTPError as http_err:\n",
    "                print(f\"HTTP error occurred: {http_err}\")\n",
    "            except Timeout as timeout_err:\n",
    "                print(f\"Timeout error occurred: {timeout_err}\")\n",
    "            except RequestException as req_err:\n",
    "                print(f\"Request error occurred: {req_err}\")\n",
    "            retries -= 1\n",
    "            print(f\"Retrying... ({3 - retries}/3)\")\n",
    "        else:\n",
    "            print(f\"Failed to download content from {url} after 3 attempts\")\n",
    "urls = [\n",
    "    \"https://example.com/file1\",\n",
    "    \"https://example.com/file2\",\n",
    "    \"https://example.com/file3\"\n",
    "]\n",
    "download_urls(urls)\n"
   ]
  },
  {
   "cell_type": "code",
   "execution_count": 11,
   "id": "b7653925-c87d-4e4c-9f78-1fb93abc3870",
   "metadata": {},
   "outputs": [
    {
     "name": "stdout",
     "output_type": "stream",
     "text": [
      "Coefficients: [998.57768914]\n",
      "Mean squared error: 4061.83\n",
      "Coefficient of determination: 0.23\n"
     ]
    },
    {
     "data": {
      "image/png": "[encoded data removed]",
      "text/plain": [
       "<Figure size 640x480 with 1 Axes>"
      ]
     },
     "metadata": {},
     "output_type": "display_data"
    }
   ],
   "source": [
    "import numpy as np\n",
    "import matplotlib.pyplot as plt\n",
    "from sklearn import datasets, linear_model\n",
    "from sklearn.metrics import mean_squared_error, r2_score\n",
    "from sklearn.model_selection import train_test_split\n",
    "\n",
    "diabetes_X, diabetes_y = datasets.load_diabetes(return_X_y=True)\n",
    "\n",
    "diabetes_X = diabetes_X[:, np.newaxis, 2]\n",
    "\n",
    "diabetes_X_train, diabetes_X_test, diabetes_y_train, diabetes_y_test = train_test_split(diabetes_X, diabetes_y, test_size=0.2, random_state=42)\n",
    "\n",
    "regr = linear_model.LinearRegression()\n",
    "\n",
    "regr.fit(diabetes_X_train, diabetes_y_train)\n",
    "\n",
    "diabetes_y_pred = regr.predict(diabetes_X_test)\n",
    "\n",
    "print(\"Coefficients:\", regr.coef_)\n",
    "# The mean squared error\n",
    "print(\"Mean squared error: %.2f\" % mean_squared_error(diabetes_y_test, diabetes_y_pred))\n",
    "# The coefficient of determination: 1 is perfect prediction\n",
    "print(\"Coefficient of determination: %.2f\" % r2_score(diabetes_y_test, diabetes_y_pred))\n",
    "\n",
    "plt.scatter(diabetes_X_test, diabetes_y_test, color=\"black\")\n",
    "plt.plot(diabetes_X_test, diabetes_y_pred, color=\"blue\", linewidth=3)\n",
    "plt.xlabel('Feature')\n",
    "plt.ylabel('Target')\n",
    "plt.title('Linear Regression')\n",
    "plt.show()\n"
   ]
  },
  {
   "cell_type": "code",
   "execution_count": 18,
   "id": "6d4b113f-0c29-43c1-bb70-1b23d34556bb",
   "metadata": {},
   "outputs": [
    {
     "name": "stdout",
     "output_type": "stream",
     "text": [
      "Processed DataFrame:\n",
      "   numeric_col1  numeric_col2  category_col_A  category_col_B  category_col_C\n",
      "0     -1.414214     -1.322876            True           False           False\n",
      "1     -0.707107     -0.566947           False            True           False\n",
      "2      0.000000      0.188982            True           False           False\n",
      "3      0.707107      0.000000           False           False            True\n",
      "4      1.414214      1.700840           False            True           False\n"
     ]
    }
   ],
   "source": [
    "import pandas as pd\n",
    "from sklearn.preprocessing import StandardScaler, OneHotEncoder\n",
    "from sklearn.impute import SimpleImputer\n",
    "\n",
    "def preprocess_data(df):\n",
    "    # Separate numerical and categorical columns\n",
    "    numeric_cols = df.select_dtypes(include=['float64', 'int64']).columns\n",
    "    categorical_cols = df.select_dtypes(include=['object']).columns\n",
    "    \n",
    "    # Handle missing values in numerical columns with mean imputation\n",
    "    imputer = SimpleImputer(strategy='mean')\n",
    "    df[numeric_cols] = imputer.fit_transform(df[numeric_cols])\n",
    "    \n",
    "    # Normalize numerical columns\n",
    "    scaler = StandardScaler()\n",
    "    df[numeric_cols] = scaler.fit_transform(df[numeric_cols])\n",
    "    \n",
    "    # Encode categorical columns\n",
    "    df = pd.get_dummies(df, columns=categorical_cols)\n",
    "    \n",
    "    return df\n",
    "\n",
    "# Example DataFrame\n",
    "data = {\n",
    "    'numeric_col1': [1, 2, None, 4, 5],\n",
    "    'numeric_col2': [3.0, 4.0, 5.0, None, 7.0],\n",
    "    'category_col': ['A', 'B', 'A', 'C', 'B']\n",
    "}\n",
    "df = pd.DataFrame(data)\n",
    "\n",
    "# Preprocess the DataFrame\n",
    "cleaned_df = preprocess_data(df)\n",
    "\n",
    "# Output the processed DataFrame\n",
    "print(\"Processed DataFrame:\")\n",
    "print(cleaned_df)"
   ]
  },
  {
   "cell_type": "code",
   "execution_count": 19,
   "id": "783dd821-08e1-4807-8d37-8cc829719ad3",
   "metadata": {},
   "outputs": [
    {
     "name": "stdin",
     "output_type": "stream",
     "text": [
      " 10\n"
     ]
    },
    {
     "name": "stdout",
     "output_type": "stream",
     "text": [
      "The 10th Fibonacci number is: 34\n"
     ]
    }
   ],
   "source": [
    "def fibonacci(n):\n",
    "    if n <= 0:\n",
    "        return \"Incorrect input\"\n",
    "    elif n == 1:\n",
    "        return 0\n",
    "    elif n == 2:\n",
    "        return 1\n",
    "    else:\n",
    "        return fibonacci(n-1) + fibonacci(n-2)\n",
    "n = int(input())\n",
    "print(f\"The {n}th Fibonacci number is: {fibonacci(n)}\")"
   ]
  },
  {
   "cell_type": "code",
   "execution_count": 33,
   "id": "67b50bfe-7cf0-479e-b7bb-61e5ae33d890",
   "metadata": {},
   "outputs": [
    {
     "name": "stdin",
     "output_type": "stream",
     "text": [
      " 10\n",
      " 0\n"
     ]
    },
    {
     "name": "stdout",
     "output_type": "stream",
     "text": [
      "Error: Division by zero is not allowed\n"
     ]
    }
   ],
   "source": [
    "def divide_numbers(num1, num2):\n",
    "    try:\n",
    "        result = num1 / num2\n",
    "        return result\n",
    "    except ZeroDivisionError:\n",
    "        return \"Error: Division by zero is not allowed\"\n",
    "num1=int(input())\n",
    "num2=int(input())\n",
    "result = divide_numbers(num1,num2)\n",
    "print(result)  "
   ]
  },
  {
   "cell_type": "code",
   "execution_count": 25,
   "id": "bc311ba8-491b-4b22-8de0-63762a63fbb7",
   "metadata": {},
   "outputs": [
    {
     "name": "stdin",
     "output_type": "stream",
     "text": [
      "Enter a value for the computationally expensive task:  10\n"
     ]
    },
    {
     "name": "stdout",
     "output_type": "stream",
     "text": [
      "Function expensive_task took 0.0040 seconds to execute\n",
      "Result: 3328335000\n"
     ]
    }
   ],
   "source": [
    "import time\n",
    "import functools\n",
    "\n",
    "def measure_time(func):\n",
    "    @functools.wraps(func)\n",
    "    def wrapper(*args, **kwargs):\n",
    "        start_time = time.time()\n",
    "        result = func(*args, **kwargs)\n",
    "        end_time = time.time()\n",
    "        execution_time = end_time - start_time\n",
    "        print(f\"Function {func.__name__} took {execution_time:.4f} seconds to execute\")\n",
    "        return result\n",
    "    return wrapper\n",
    "\n",
    "@measure_time\n",
    "def expensive_task(n):\n",
    "    total = 0\n",
    "    for i in range(n):\n",
    "        total += sum(j * j for j in range(1000))\n",
    "    return total\n",
    "\n",
    "n = int(input(\"Enter a value for the computationally expensive task: \"))\n",
    "result = expensive_task(n)\n",
    "print(f\"Result: {result}\")\n"
   ]
  },
  {
   "cell_type": "code",
   "execution_count": 26,
   "id": "82a0f4f5-75c6-4ea8-813a-7cc4b3b62ea5",
   "metadata": {},
   "outputs": [
    {
     "name": "stdin",
     "output_type": "stream",
     "text": [
      " 10\n",
      " 20\n",
      " +\n"
     ]
    },
    {
     "name": "stdout",
     "output_type": "stream",
     "text": [
      "30\n"
     ]
    }
   ],
   "source": [
    "def calculate(num1, num2, operator):\n",
    "    if operator == '+':\n",
    "        return num1 + num2\n",
    "    elif operator == '-':\n",
    "        return num1 - num21\n",
    "    elif operator == '*':\n",
    "        return num1 * num2\n",
    "    elif operator == '/':\n",
    "        if num2 != 0:\n",
    "            return num1 / num2\n",
    "        else:\n",
    "            return \"Error: Division by zero\"\n",
    "    else:\n",
    "        return \"Error: Invalid operator\"\n",
    "num1=int(input())\n",
    "num2=int(input())\n",
    "operator=input()\n",
    "result = calculate(num1, num2, operator)\n",
    "print(result)"
   ]
  },
  {
   "cell_type": "code",
   "execution_count": 32,
   "id": "d758f353-3aea-4f85-b1b7-995ceef377f2",
   "metadata": {},
   "outputs": [
    {
     "name": "stdin",
     "output_type": "stream",
     "text": [
      "Enter the length for the dersired password:  7\n"
     ]
    },
    {
     "name": "stdout",
     "output_type": "stream",
     "text": [
      "!u9p<.F\n"
     ]
    }
   ],
   "source": [
    "import random\n",
    "import string\n",
    "\n",
    "def generate_password():\n",
    "    length = int(input(\"Enter the length for the dersired password: \"))\n",
    "    if length < 6:\n",
    "        raise ValueError(\"Password length should be at least 6 characters\")\n",
    "\n",
    "    all_characters = string.ascii_letters + string.digits + string.punctuation\n",
    "    password = [\n",
    "        random.choice(string.ascii_uppercase),\n",
    "        random.choice(string.ascii_lowercase),\n",
    "        random.choice(string.digits),\n",
    "        random.choice(string.punctuation)\n",
    "    ]\n",
    "\n",
    "    password += random.choices(all_characters, k=length-4)\n",
    "    random.shuffle(password)\n",
    "    return ''.join(password)\n",
    "password = generate_password()\n",
    "print(password)\n"
   ]
  },
  {
   "cell_type": "code",
   "execution_count": 3,
   "id": "354c7d45-03fc-490a-88c6-63877525d98b",
   "metadata": {},
   "outputs": [
    {
     "name": "stdin",
     "output_type": "stream",
     "text": [
      "Enter the number of rows:  3\n",
      "Enter the number of columns:  4\n"
     ]
    },
    {
     "name": "stdout",
     "output_type": "stream",
     "text": [
      "Enter the matrix values row by row:\n"
     ]
    },
    {
     "name": "stdin",
     "output_type": "stream",
     "text": [
      " 1 2 3 4\n",
      " 4 5 6 7\n",
      " 8 9 10 11\n"
     ]
    },
    {
     "name": "stdout",
     "output_type": "stream",
     "text": [
      "Transposed matrix:\n",
      "[1, 4, 8]\n",
      "[2, 5, 9]\n",
      "[3, 6, 10]\n",
      "[4, 7, 11]\n"
     ]
    }
   ],
   "source": [
    "def transpose_matrix():\n",
    "    rows = int(input(\"Enter the number of rows: \"))\n",
    "    cols = int(input(\"Enter the number of columns: \"))\n",
    "    matrix = []\n",
    "    print(\"Enter the matrix values row by row:\")\n",
    "    for i in range(rows):\n",
    "        row = list(map(int, input().split()))\n",
    "        matrix.append(row)\n",
    "    transposed = [[matrix[j][i] for j in range(len(matrix))] for i in range(len(matrix[0]))]\n",
    "    return transposed\n",
    "transposed_matrix = transpose_matrix()\n",
    "print(\"Transposed matrix:\")\n",
    "for row in transposed_matrix:\n",
    "    print(row)\n"
   ]
  },
  {
   "cell_type": "code",
   "execution_count": null,
   "id": "99d3dd5a-833e-4a10-a90d-d6a6625bdd53",
   "metadata": {},
   "outputs": [],
   "source": []
  }
 ],
 "metadata": {
  "kernelspec": {
   "display_name": "Python 3 (ipykernel)",
   "language": "python",
   "name": "python3"
  },
  "language_info": {
   "codemirror_mode": {
    "name": "ipython",
    "version": 3
   },
   "file_extension": ".py",
   "mimetype": "text/x-python",
   "name": "python",
   "nbconvert_exporter": "python",
   "pygments_lexer": "ipython3",
   "version": "3.12.2"
  }
 },
 "nbformat": 4,
 "nbformat_minor": 5
}
